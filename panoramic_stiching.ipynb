{
 "cells": [
  {
   "cell_type": "code",
   "execution_count": 1,
   "id": "2c950314",
   "metadata": {},
   "outputs": [],
   "source": [
    "import os\n",
    "import cv2"
   ]
  },
  {
   "cell_type": "code",
   "execution_count": 15,
   "id": "e1465d0c",
   "metadata": {},
   "outputs": [],
   "source": [
    "paths = []"
   ]
  },
  {
   "cell_type": "code",
   "execution_count": 20,
   "id": "a120607e",
   "metadata": {},
   "outputs": [
    {
     "data": {
      "text/plain": [
       "['20230123_213440.jpg', '20230123_213444.jpg']"
      ]
     },
     "execution_count": 20,
     "metadata": {},
     "output_type": "execute_result"
    }
   ],
   "source": [
    "os.listdir('images')"
   ]
  },
  {
   "cell_type": "code",
   "execution_count": 16,
   "id": "7f085094",
   "metadata": {},
   "outputs": [
    {
     "data": {
      "text/plain": [
       "['images/20230123_213440.jpg', 'images/20230123_213444.jpg']"
      ]
     },
     "execution_count": 16,
     "metadata": {},
     "output_type": "execute_result"
    }
   ],
   "source": [
    "for image in os.listdir('images'):\n",
    "    paths.append(\"images/\"+image)\n",
    "paths"
   ]
  },
  {
   "cell_type": "code",
   "execution_count": 17,
   "id": "72aa7d7d",
   "metadata": {},
   "outputs": [
    {
     "data": {
      "text/plain": [
       "-1"
      ]
     },
     "execution_count": 17,
     "metadata": {},
     "output_type": "execute_result"
    }
   ],
   "source": [
    "cv2.namedWindow(\"img1\", cv2.WINDOW_NORMAL)\n",
    "img1 = cv2.imread(paths[0])\n",
    "cv2.imshow('img1', img1)\n",
    "cv2.waitKey(0)"
   ]
  },
  {
   "cell_type": "code",
   "execution_count": 14,
   "id": "a92cae70",
   "metadata": {},
   "outputs": [],
   "source": [
    "sticher = cv2.Stitcher.create()"
   ]
  },
  {
   "cell_type": "code",
   "execution_count": 18,
   "id": "b5680ab3",
   "metadata": {},
   "outputs": [],
   "source": [
    "images = []\n",
    "for path in paths:\n",
    "    img = cv2.imread(path)\n",
    "    images.append(img)"
   ]
  },
  {
   "cell_type": "code",
   "execution_count": 21,
   "id": "7173f838",
   "metadata": {},
   "outputs": [],
   "source": [
    "if 'output_images' not in os.listdir():\n",
    "    os.mkdir('output_images')"
   ]
  },
  {
   "cell_type": "code",
   "execution_count": 26,
   "id": "5ac1377a",
   "metadata": {},
   "outputs": [
    {
     "name": "stdout",
     "output_type": "stream",
     "text": [
      "stitch successful\n"
     ]
    },
    {
     "data": {
      "text/plain": [
       "True"
      ]
     },
     "execution_count": 26,
     "metadata": {},
     "output_type": "execute_result"
    }
   ],
   "source": [
    "ret, result = sticher.stitch(images)\n",
    "\n",
    "if ret == cv2.STITCHER_OK:\n",
    "    print(\"stitch successful\")\n",
    "else:\n",
    "    print(\"stitch unsuccessful\")\n",
    "    \n",
    "cv2.imwrite('output_images/result.jpg', result)"
   ]
  },
  {
   "cell_type": "code",
   "execution_count": 30,
   "id": "e35443db",
   "metadata": {},
   "outputs": [
    {
     "data": {
      "text/plain": [
       "-1"
      ]
     },
     "execution_count": 30,
     "metadata": {},
     "output_type": "execute_result"
    }
   ],
   "source": [
    "cv2.namedWindow(\"out\", cv2.WINDOW_NORMAL)\n",
    "cv2.imshow(\"out\", result)\n",
    "cv2.waitKey(0)"
   ]
  },
  {
   "cell_type": "code",
   "execution_count": 31,
   "id": "8cb19001",
   "metadata": {},
   "outputs": [
    {
     "name": "stdout",
     "output_type": "stream",
     "text": [
      "(4624, 3468, 3)\n",
      "(4624, 3468, 3)\n"
     ]
    }
   ],
   "source": [
    "for image in images:\n",
    "    print(image.shape)"
   ]
  },
  {
   "cell_type": "code",
   "execution_count": 32,
   "id": "6cfde013",
   "metadata": {},
   "outputs": [
    {
     "data": {
      "text/plain": [
       "(3897, 4801, 3)"
      ]
     },
     "execution_count": 32,
     "metadata": {},
     "output_type": "execute_result"
    }
   ],
   "source": [
    "result.shape"
   ]
  },
  {
   "cell_type": "code",
   "execution_count": null,
   "id": "825b2b5c",
   "metadata": {},
   "outputs": [],
   "source": []
  }
 ],
 "metadata": {
  "kernelspec": {
   "display_name": "Python 3 (ipykernel)",
   "language": "python",
   "name": "python3"
  },
  "language_info": {
   "codemirror_mode": {
    "name": "ipython",
    "version": 3
   },
   "file_extension": ".py",
   "mimetype": "text/x-python",
   "name": "python",
   "nbconvert_exporter": "python",
   "pygments_lexer": "ipython3",
   "version": "3.9.12"
  }
 },
 "nbformat": 4,
 "nbformat_minor": 5
}
