{
 "cells": [
  {
   "cell_type": "markdown",
   "id": "cbcbf156",
   "metadata": {},
   "source": [
    "# Panoramic stiching using cv2.Sticher class"
   ]
  },
  {
   "cell_type": "code",
   "execution_count": 35,
   "id": "e9915de3",
   "metadata": {},
   "outputs": [],
   "source": [
    "import os\n",
    "import cv2"
   ]
  },
  {
   "cell_type": "code",
   "execution_count": 36,
   "id": "cf23c2e5",
   "metadata": {},
   "outputs": [
    {
     "data": {
      "text/plain": [
       "['.git',\n",
       " '.gitignore',\n",
       " '.ipynb_checkpoints',\n",
       " 'images',\n",
       " 'output_images',\n",
       " 'panoramic_stiching.ipynb',\n",
       " 'test_images']"
      ]
     },
     "execution_count": 36,
     "metadata": {},
     "output_type": "execute_result"
    }
   ],
   "source": [
    "os.listdir()"
   ]
  },
  {
   "cell_type": "code",
   "execution_count": 51,
   "id": "f747ff8c",
   "metadata": {},
   "outputs": [],
   "source": [
    "# folder = os.listdir()[6]\n",
    "folder = 'images'"
   ]
  },
  {
   "cell_type": "code",
   "execution_count": 52,
   "id": "c64b05ca",
   "metadata": {},
   "outputs": [],
   "source": [
    "paths = []"
   ]
  },
  {
   "cell_type": "code",
   "execution_count": 53,
   "id": "4232282f",
   "metadata": {},
   "outputs": [
    {
     "data": {
      "text/plain": [
       "['20230123_213440.jpg', '20230123_213444.jpg']"
      ]
     },
     "execution_count": 53,
     "metadata": {},
     "output_type": "execute_result"
    }
   ],
   "source": [
    "os.listdir(folder) #images to be stiched together"
   ]
  },
  {
   "cell_type": "code",
   "execution_count": 54,
   "id": "6ea488cf",
   "metadata": {},
   "outputs": [
    {
     "data": {
      "text/plain": [
       "['images/20230123_213440.jpg', 'images/20230123_213444.jpg']"
      ]
     },
     "execution_count": 54,
     "metadata": {},
     "output_type": "execute_result"
    }
   ],
   "source": [
    "# adding paths of input images to a list\n",
    "for image in os.listdir(folder):\n",
    "    paths.append(folder+'/'+image)\n",
    "paths"
   ]
  },
  {
   "cell_type": "code",
   "execution_count": 55,
   "id": "53e8bce1",
   "metadata": {},
   "outputs": [
    {
     "data": {
      "text/plain": [
       "-1"
      ]
     },
     "execution_count": 55,
     "metadata": {},
     "output_type": "execute_result"
    }
   ],
   "source": [
    "cv2.namedWindow(\"img1\", cv2.WINDOW_NORMAL)\n",
    "img1 = cv2.imread(paths[0])\n",
    "cv2.imshow('img1', img1)\n",
    "cv2.waitKey(0)"
   ]
  },
  {
   "cell_type": "code",
   "execution_count": 56,
   "id": "2c803aee",
   "metadata": {},
   "outputs": [],
   "source": [
    "sticher = cv2.Stitcher.create() #initialise the cv2.Stitcher object"
   ]
  },
  {
   "cell_type": "code",
   "execution_count": 57,
   "id": "1f7bd7c0",
   "metadata": {},
   "outputs": [],
   "source": [
    "# adding images to be stiched to a list\n",
    "images = []\n",
    "for path in paths:\n",
    "    img = cv2.imread(path)\n",
    "    images.append(img)"
   ]
  },
  {
   "cell_type": "code",
   "execution_count": 58,
   "id": "b660256c",
   "metadata": {},
   "outputs": [],
   "source": [
    "# making a directory for the output image\n",
    "if 'output_images' not in os.listdir():\n",
    "    os.mkdir('output_images')"
   ]
  },
  {
   "cell_type": "code",
   "execution_count": 59,
   "id": "c05324cb",
   "metadata": {},
   "outputs": [
    {
     "name": "stdout",
     "output_type": "stream",
     "text": [
      "stitch successful\n"
     ]
    }
   ],
   "source": [
    "ret, result = sticher.stitch(images) # passing the images to the sticher.stitch() function\n",
    "\n",
    "if ret == cv2.STITCHER_OK:\n",
    "    print(\"stitch successful\")\n",
    "    cv2.imwrite('output_images/result.jpg', result) # saving the resultant image\n",
    "else:\n",
    "    print(\"stitch unsuccessful\")"
   ]
  },
  {
   "cell_type": "code",
   "execution_count": 60,
   "id": "883434f3",
   "metadata": {},
   "outputs": [
    {
     "data": {
      "text/plain": [
       "-1"
      ]
     },
     "execution_count": 60,
     "metadata": {},
     "output_type": "execute_result"
    }
   ],
   "source": [
    "cv2.namedWindow(\"out\", cv2.WINDOW_NORMAL)\n",
    "cv2.imshow(\"out\", result)\n",
    "cv2.waitKey(0)"
   ]
  },
  {
   "cell_type": "code",
   "execution_count": 61,
   "id": "f5c73b20",
   "metadata": {},
   "outputs": [
    {
     "name": "stdout",
     "output_type": "stream",
     "text": [
      "(4624, 3468, 3)\n",
      "(4624, 3468, 3)\n"
     ]
    }
   ],
   "source": [
    "for image in images:\n",
    "    print(image.shape)"
   ]
  },
  {
   "cell_type": "markdown",
   "id": "92bafe79",
   "metadata": {},
   "source": [
    "The two images were of 4624x3468 pixels dimension."
   ]
  },
  {
   "cell_type": "code",
   "execution_count": 62,
   "id": "158f3a71",
   "metadata": {},
   "outputs": [
    {
     "data": {
      "text/plain": [
       "(3853, 4767, 3)"
      ]
     },
     "execution_count": 62,
     "metadata": {},
     "output_type": "execute_result"
    }
   ],
   "source": [
    "result.shape"
   ]
  },
  {
   "cell_type": "markdown",
   "id": "79c4923c",
   "metadata": {},
   "source": [
    "whereas the stiched image is of 3897x4801 pixels dimension."
   ]
  },
  {
   "cell_type": "code",
   "execution_count": null,
   "id": "ab8e17fc",
   "metadata": {},
   "outputs": [],
   "source": []
  }
 ],
 "metadata": {
  "kernelspec": {
   "display_name": "Python 3 (ipykernel)",
   "language": "python",
   "name": "python3"
  },
  "language_info": {
   "codemirror_mode": {
    "name": "ipython",
    "version": 3
   },
   "file_extension": ".py",
   "mimetype": "text/x-python",
   "name": "python",
   "nbconvert_exporter": "python",
   "pygments_lexer": "ipython3",
   "version": "3.9.12"
  }
 },
 "nbformat": 4,
 "nbformat_minor": 5
}
